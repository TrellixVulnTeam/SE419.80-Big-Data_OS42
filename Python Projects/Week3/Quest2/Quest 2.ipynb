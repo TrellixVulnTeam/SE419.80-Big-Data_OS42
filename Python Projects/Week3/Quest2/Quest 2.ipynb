{
 "cells": [
  {
   "cell_type": "code",
   "execution_count": 1,
   "metadata": {},
   "outputs": [],
   "source": [
    "import wget"
   ]
  },
  {
   "cell_type": "code",
   "execution_count": 2,
   "metadata": {},
   "outputs": [
    {
     "name": "stdout",
     "output_type": "stream",
     "text": [
      "Requirement already satisfied: wget in c:\\users\\mathew holden\\anaconda3\\lib\\site-packages (3.2)\n"
     ]
    },
    {
     "name": "stderr",
     "output_type": "stream",
     "text": [
      "twisted 18.7.0 requires PyHamcrest>=1.9.0, which is not installed.\n",
      "You are using pip version 10.0.1, however version 18.1 is available.\n",
      "You should consider upgrading via the 'python -m pip install --upgrade pip' command.\n"
     ]
    }
   ],
   "source": [
    "from pip._internal import main\n",
    "main(['install', 'wget'])\n",
    "import wget"
   ]
  },
  {
   "cell_type": "code",
   "execution_count": 3,
   "metadata": {},
   "outputs": [],
   "source": [
    "try:\n",
    "    import wget\n",
    "except:\n",
    "    import pip\n",
    "    pip.main(['install', 'wget'])\n",
    "    import wget"
   ]
  },
  {
   "cell_type": "code",
   "execution_count": 4,
   "metadata": {},
   "outputs": [],
   "source": [
    "import datetime as dt\n",
    "import matplotlib.pyplot as plt\n",
    "from matplotlib import style\n",
    "import pandas as pd\n",
    "try:\n",
    "    import pandas_datareader.data as web\n",
    "except:\n",
    "    from pip._internal import main\n",
    "    main(['install', 'pandas_datareader'])\n",
    "    import pandas_datareader.data as web"
   ]
  },
  {
   "cell_type": "code",
   "execution_count": 5,
   "metadata": {},
   "outputs": [],
   "source": [
    "style.use('ggplot')"
   ]
  },
  {
   "cell_type": "code",
   "execution_count": 6,
   "metadata": {},
   "outputs": [],
   "source": [
    "start = dt.datetime(2000, 1, 1)\n",
    "end = dt.datetime(2016, 12, 31)"
   ]
  },
  {
   "cell_type": "code",
   "execution_count": 7,
   "metadata": {},
   "outputs": [],
   "source": [
    "class YahooDailyReader():\n",
    "    \n",
    "    def __init__(self, symbol=None, start=None, end=None):\n",
    "        import datetime, time\n",
    "        self.symbol = symbol\n",
    "        \n",
    "        # initialize start/end dates if not provided\n",
    "        if end is None:\n",
    "            end = datetime.datetime.today()\n",
    "        if start is None:\n",
    "            start = datetime.datetime(2010,1,1)\n",
    "        \n",
    "        self.start = start\n",
    "        self.end = end\n",
    "        \n",
    "        # convert dates to unix time strings\n",
    "        unix_start = int(time.mktime(self.start.timetuple()))\n",
    "        day_end = self.end.replace(hour=23, minute=59, second=59)\n",
    "        unix_end = int(time.mktime(day_end.timetuple()))\n",
    "        \n",
    "        url = 'https://finance.yahoo.com/quote/{}/history?'\n",
    "        url += 'period1={}&period2={}'\n",
    "        url += '&filter=history'\n",
    "        url += '&interval=1d'\n",
    "        url += '&frequency=1d'\n",
    "        self.url = url.format(self.symbol, unix_start, unix_end)\n",
    "        \n",
    "    def read(self):\n",
    "        import requests, re, json\n",
    "       \n",
    "        r = requests.get(self.url)\n",
    "        \n",
    "        ptrn = r'root\\.App\\.main = (.*?);\\n}\\(this\\)\\);'\n",
    "        txt = re.search(ptrn, r.text, re.DOTALL).group(1)\n",
    "        jsn = json.loads(txt)\n",
    "        df = pd.DataFrame(\n",
    "                jsn['context']['dispatcher']['stores']\n",
    "                ['HistoricalPriceStore']['prices']\n",
    "                )\n",
    "        df.insert(0, 'symbol', self.symbol)\n",
    "        df['date'] = pd.to_datetime(df['date'], unit='s').dt.date\n",
    "        \n",
    "        # drop rows that aren't prices\n",
    "        df = df.dropna(subset=['close'])\n",
    "        \n",
    "        df = df[['symbol', 'date', 'high', 'low', 'open', 'close', \n",
    "                 'volume', 'adjclose']]\n",
    "        df = df.set_index('symbol')\n",
    "        return df"
   ]
  },
  {
   "cell_type": "code",
   "execution_count": 8,
   "metadata": {},
   "outputs": [],
   "source": [
    "ydr = YahooDailyReader('TSLA')\n",
    "df = ydr.read()"
   ]
  },
  {
   "cell_type": "code",
   "execution_count": 9,
   "metadata": {},
   "outputs": [
    {
     "name": "stdout",
     "output_type": "stream",
     "text": [
      "              date        high         low        open       close    volume  \\\n",
      "symbol                                                                         \n",
      "TSLA    2018-10-23  293.994995  262.100006  263.869995  293.589996  13973395   \n",
      "TSLA    2018-10-22  261.859985  252.589996  260.679993  260.950012   5597600   \n",
      "TSLA    2018-10-19  269.660004  253.500000  267.390015  260.000000   9375500   \n",
      "TSLA    2018-10-18  271.000000  263.000000  269.290009  263.910004   5421200   \n",
      "TSLA    2018-10-17  282.700012  265.799988  282.399994  271.779999   8655500   \n",
      "TSLA    2018-10-16  277.380005  262.239990  265.700012  276.589996   9526400   \n",
      "\n",
      "          adjclose  \n",
      "symbol              \n",
      "TSLA    293.589996  \n",
      "TSLA    260.950012  \n",
      "TSLA    260.000000  \n",
      "TSLA    263.910004  \n",
      "TSLA    271.779999  \n",
      "TSLA    276.589996  \n"
     ]
    }
   ],
   "source": [
    "print(df.head(6))"
   ]
  },
  {
   "cell_type": "code",
   "execution_count": 10,
   "metadata": {},
   "outputs": [
    {
     "name": "stdout",
     "output_type": "stream",
     "text": [
      "symbol\n",
      "TSLA    263.869995\n",
      "TSLA    260.679993\n",
      "TSLA    267.390015\n",
      "TSLA    269.290009\n",
      "TSLA    282.399994\n",
      "Name: open, dtype: float64\n"
     ]
    }
   ],
   "source": [
    "print(df['open'][0:5])"
   ]
  },
  {
   "cell_type": "code",
   "execution_count": 11,
   "metadata": {},
   "outputs": [],
   "source": [
    "df.to_csv('tesla.csv')"
   ]
  },
  {
   "cell_type": "code",
   "execution_count": 12,
   "metadata": {},
   "outputs": [],
   "source": [
    "df = pd.read_csv('tesla.csv')"
   ]
  },
  {
   "cell_type": "code",
   "execution_count": 13,
   "metadata": {},
   "outputs": [
    {
     "name": "stdout",
     "output_type": "stream",
     "text": [
      "  symbol        date        high         low        open       close  \\\n",
      "0   TSLA  2018-10-23  293.994995  262.100006  263.869995  293.589996   \n",
      "1   TSLA  2018-10-22  261.859985  252.589996  260.679993  260.950012   \n",
      "2   TSLA  2018-10-19  269.660004  253.500000  267.390015  260.000000   \n",
      "3   TSLA  2018-10-18  271.000000  263.000000  269.290009  263.910004   \n",
      "4   TSLA  2018-10-17  282.700012  265.799988  282.399994  271.779999   \n",
      "\n",
      "     volume    adjclose  \n",
      "0  13973395  293.589996  \n",
      "1   5597600  260.950012  \n",
      "2   9375500  260.000000  \n",
      "3   5421200  263.910004  \n",
      "4   8655500  271.779999  \n"
     ]
    }
   ],
   "source": [
    "print(df.head())"
   ]
  },
  {
   "cell_type": "code",
   "execution_count": 14,
   "metadata": {},
   "outputs": [],
   "source": [
    "df = pd.read_csv('tesla.csv', parse_dates = True, index_col = 0)"
   ]
  },
  {
   "cell_type": "code",
   "execution_count": 15,
   "metadata": {},
   "outputs": [
    {
     "data": {
      "image/png": "[encoded data removed]",
      "text/plain": [
       "<Figure size 432x288 with 1 Axes>"
      ]
     },
     "metadata": {},
     "output_type": "display_data"
    }
   ],
   "source": [
    "df.plot()\n",
    "plt.show()"
   ]
  },
  {
   "cell_type": "code",
   "execution_count": 16,
   "metadata": {},
   "outputs": [
    {
     "data": {
      "image/png": "[encoded data removed]",
      "text/plain": [
       "<Figure size 432x288 with 1 Axes>"
      ]
     },
     "metadata": {},
     "output_type": "display_data"
    }
   ],
   "source": [
    "df['adjclose'].plot()\n",
    "plt.show()"
   ]
  },
  {
   "cell_type": "code",
   "execution_count": 17,
   "metadata": {},
   "outputs": [
    {
     "name": "stdout",
     "output_type": "stream",
     "text": [
      "symbol\n",
      "TSLA    293.589996\n",
      "TSLA    260.950012\n",
      "TSLA    260.000000\n",
      "TSLA    263.910004\n",
      "TSLA    271.779999\n",
      "TSLA    276.589996\n",
      "TSLA    259.589996\n",
      "TSLA    258.779999\n",
      "TSLA    252.229996\n",
      "TSLA    256.880005\n",
      "TSLA    262.799988\n",
      "TSLA    250.559998\n",
      "TSLA    261.950012\n",
      "TSLA    281.829987\n",
      "TSLA    294.799988\n",
      "TSLA    301.019989\n",
      "TSLA    310.700012\n",
      "TSLA    264.769989\n",
      "TSLA    307.519989\n",
      "TSLA    309.579987\n",
      "TSLA    300.989990\n",
      "TSLA    299.679993\n",
      "TSLA    299.100006\n",
      "TSLA    298.329987\n",
      "TSLA    299.019989\n",
      "TSLA    284.959991\n",
      "TSLA    294.839996\n",
      "TSLA    295.200012\n",
      "TSLA    289.459991\n",
      "TSLA    290.540009\n",
      "           ...    \n",
      "TSLA     19.030001\n",
      "TSLA     19.600000\n",
      "TSLA     19.590000\n",
      "TSLA     20.450001\n",
      "TSLA     21.260000\n",
      "TSLA     21.950001\n",
      "TSLA     20.920000\n",
      "TSLA     19.940001\n",
      "TSLA     20.350000\n",
      "TSLA     20.719999\n",
      "TSLA     20.549999\n",
      "TSLA     20.950001\n",
      "TSLA     21.290001\n",
      "TSLA     21.000000\n",
      "TSLA     20.219999\n",
      "TSLA     20.299999\n",
      "TSLA     21.910000\n",
      "TSLA     20.639999\n",
      "TSLA     19.889999\n",
      "TSLA     19.840000\n",
      "TSLA     18.139999\n",
      "TSLA     17.049999\n",
      "TSLA     17.400000\n",
      "TSLA     17.459999\n",
      "TSLA     15.800000\n",
      "TSLA     16.110001\n",
      "TSLA     19.200001\n",
      "TSLA     21.959999\n",
      "TSLA     23.830000\n",
      "TSLA     23.889999\n",
      "Name: adjclose, Length: 2096, dtype: float64\n"
     ]
    }
   ],
   "source": [
    "print(df['adjclose'])"
   ]
  },
  {
   "cell_type": "code",
   "execution_count": 18,
   "metadata": {},
   "outputs": [
    {
     "name": "stdout",
     "output_type": "stream",
     "text": [
      "              open        high\n",
      "symbol                        \n",
      "TSLA    263.869995  293.994995\n",
      "TSLA    260.679993  261.859985\n",
      "TSLA    267.390015  269.660004\n",
      "TSLA    269.290009  271.000000\n",
      "TSLA    282.399994  282.700012\n"
     ]
    }
   ],
   "source": [
    "print(df[['open', 'high']].head())"
   ]
  },
  {
   "cell_type": "code",
   "execution_count": 19,
   "metadata": {},
   "outputs": [],
   "source": [
    "\n",
    "class color:\n",
    "   PURPLE = '\\033[95m'\n",
    "   CYAN = '\\033[96m'\n",
    "   DARKCYAN = '\\033[36m'\n",
    "   BLUE = '\\033[94m'\n",
    "   GREEN = '\\033[92m'\n",
    "   YELLOW = '\\033[93m'\n",
    "   RED = '\\033[91m'\n",
    "   BOLD = '\\033[1m'\n",
    "   UNDERLINE = '\\033[4m'\n",
    "   END = '\\033[0m'\n",
    "\n"
   ]
  },
  {
   "cell_type": "code",
   "execution_count": 20,
   "metadata": {
    "scrolled": true
   },
   "outputs": [
    {
     "name": "stdout",
     "output_type": "stream",
     "text": [
      "\u001b[1mCheck you stock of any of the following companies:\u001b[0m\n",
      "\u001b[1mCompany                 Type in\u001b[0m\n",
      "Microsoft Corp:         MSFT \n",
      "Amazon.com Inc:         AMZN \n",
      "Google, Inc:            GOOG\n",
      "Apple Computer Inc.:    AAPL \n",
      "Coca-Cola Bottling Co.: COKE\n",
      "MSFT\n",
      "  symbol        date        high         low        open       close  \\\n",
      "0   MSFT  2018-10-23  108.334297  105.110001  107.769997  108.290001   \n",
      "1   MSFT  2018-10-22  110.540001  108.239998  109.320000  109.629997   \n",
      "2   MSFT  2018-10-19  110.860001  108.209999  108.930000  108.660004   \n",
      "3   MSFT  2018-10-18  110.529999  107.830002  110.099998  108.500000   \n",
      "4   MSFT  2018-10-17  111.809998  109.550003  111.680000  110.709999   \n",
      "5   MSFT  2018-10-16  111.410004  108.949997  109.540001  111.000000   \n",
      "\n",
      "       volume    adjclose  \n",
      "0  30950239.0  108.290001  \n",
      "1  26488300.0  109.629997  \n",
      "2  32785500.0  108.660004  \n",
      "3  32506200.0  108.500000  \n",
      "4  26548200.0  110.709999  \n",
      "5  31610200.0  111.000000  \n"
     ]
    },
    {
     "data": {
      "image/png": "[encoded data removed]",
      "text/plain": [
       "<Figure size 432x288 with 1 Axes>"
      ]
     },
     "metadata": {},
     "output_type": "display_data"
    },
    {
     "data": {
      "image/png": "[encoded data removed]",
      "text/plain": [
       "<Figure size 432x288 with 1 Axes>"
      ]
     },
     "metadata": {},
     "output_type": "display_data"
    },
    {
     "name": "stdout",
     "output_type": "stream",
     "text": [
      "              open        high\n",
      "symbol                        \n",
      "MSFT    107.769997  108.334297\n",
      "MSFT    109.320000  110.540001\n",
      "MSFT    108.930000  110.860001\n",
      "MSFT    110.099998  110.529999\n",
      "MSFT    111.680000  111.809998\n"
     ]
    }
   ],
   "source": [
    "print(color.BOLD+\"Check you stock of any of the following companies:\"+color.END)\n",
    "print(color.BOLD+\"Company                 Type in\"+color.END)\n",
    "print(\"Microsoft Corp:         MSFT \")\n",
    "print(\"Amazon.com Inc:         AMZN \")\n",
    "print(\"Google, Inc:            GOOG\")\n",
    "print(\"Apple Computer Inc.:    AAPL \")\n",
    "print(\"Coca-Cola Bottling Co.: COKE\")\n",
    "choice = input()\n",
    "ydr = YahooDailyReader(choice)\n",
    "df = ydr.read()\n",
    "df.to_csv(choice)\n",
    "df = pd.read_csv(choice)\n",
    "print(df.head(6))\n",
    "df = pd.read_csv(choice, parse_dates = True, index_col = 0)\n",
    "df.plot()\n",
    "plt.show()\n",
    "df['adjclose'].plot()\n",
    "plt.show()\n",
    "print(df[['open', 'high']].head())"
   ]
  },
  {
   "cell_type": "code",
   "execution_count": 21,
   "metadata": {},
   "outputs": [
    {
     "name": "stdout",
     "output_type": "stream",
     "text": [
      "Mathew Holden\n"
     ]
    }
   ],
   "source": [
    "print(\"Mathew Holden\")"
   ]
  }
 ],
 "metadata": {
  "kernelspec": {
   "display_name": "Python 3",
   "language": "python",
   "name": "python3"
  },
  "language_info": {
   "codemirror_mode": {
    "name": "ipython",
    "version": 3
   },
   "file_extension": ".py",
   "mimetype": "text/x-python",
   "name": "python",
   "nbconvert_exporter": "python",
   "pygments_lexer": "ipython3",
   "version": "3.7.0"
  }
 },
 "nbformat": 4,
 "nbformat_minor": 2
}
