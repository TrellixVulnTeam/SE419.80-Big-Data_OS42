{
 "cells": [
  {
   "cell_type": "code",
   "execution_count": 1,
   "metadata": {},
   "outputs": [
    {
     "ename": "ModuleNotFoundError",
     "evalue": "No module named 'wget'",
     "output_type": "error",
     "traceback": [
      "\u001b[1;31m---------------------------------------------------------------------------\u001b[0m",
      "\u001b[1;31mModuleNotFoundError\u001b[0m                       Traceback (most recent call last)",
      "\u001b[1;32m<ipython-input-1-381d77ba2736>\u001b[0m in \u001b[0;36m<module>\u001b[1;34m()\u001b[0m\n\u001b[1;32m----> 1\u001b[1;33m \u001b[1;32mimport\u001b[0m \u001b[0mwget\u001b[0m\u001b[1;33m\u001b[0m\u001b[0m\n\u001b[0m",
      "\u001b[1;31mModuleNotFoundError\u001b[0m: No module named 'wget'"
     ]
    }
   ],
   "source": [
    "import wget"
   ]
  },
  {
   "cell_type": "code",
   "execution_count": 2,
   "metadata": {},
   "outputs": [
    {
     "name": "stdout",
     "output_type": "stream",
     "text": [
      "Collecting wget\n"
     ]
    },
    {
     "name": "stderr",
     "output_type": "stream",
     "text": [
      "twisted 18.7.0 requires PyHamcrest>=1.9.0, which is not installed.\n"
     ]
    },
    {
     "name": "stdout",
     "output_type": "stream",
     "text": [
      "Installing collected packages: wget\n",
      "Successfully installed wget-3.2\n"
     ]
    },
    {
     "name": "stderr",
     "output_type": "stream",
     "text": [
      "You are using pip version 10.0.1, however version 18.1 is available.\n",
      "You should consider upgrading via the 'python -m pip install --upgrade pip' command.\n"
     ]
    }
   ],
   "source": [
    "from pip._internal import main\n",
    "main(['install', 'wget'])\n",
    "import wget"
   ]
  },
  {
   "cell_type": "code",
   "execution_count": 4,
   "metadata": {},
   "outputs": [],
   "source": [
    "try:\n",
    "    import wget\n",
    "except:\n",
    "    import pip\n",
    "    pip.main(['install', 'wget'])\n",
    "    import wget"
   ]
  },
  {
   "cell_type": "code",
   "execution_count": 5,
   "metadata": {},
   "outputs": [
    {
     "name": "stdout",
     "output_type": "stream",
     "text": [
      "Collecting pandas_datareader\n",
      "  Downloading https://files.pythonhosted.org/packages/cc/5c/ea5b6dcfd0f55c5fb1e37fb45335ec01cceca199b8a79339137f5ed269e0/pandas_datareader-0.7.0-py2.py3-none-any.whl (111kB)\n",
      "Requirement already satisfied: pandas>=0.19.2 in c:\\users\\mathew holden\\anaconda3\\lib\\site-packages (from pandas_datareader) (0.23.4)\n",
      "Requirement already satisfied: requests>=2.3.0 in c:\\users\\mathew holden\\anaconda3\\lib\\site-packages (from pandas_datareader) (2.19.1)\n",
      "Requirement already satisfied: lxml in c:\\users\\mathew holden\\anaconda3\\lib\\site-packages (from pandas_datareader) (4.2.5)\n",
      "Requirement already satisfied: wrapt in c:\\users\\mathew holden\\anaconda3\\lib\\site-packages (from pandas_datareader) (1.10.11)\n",
      "Requirement already satisfied: python-dateutil>=2.5.0 in c:\\users\\mathew holden\\anaconda3\\lib\\site-packages (from pandas>=0.19.2->pandas_datareader) (2.7.3)\n",
      "Requirement already satisfied: pytz>=2011k in c:\\users\\mathew holden\\anaconda3\\lib\\site-packages (from pandas>=0.19.2->pandas_datareader) (2018.5)\n",
      "Requirement already satisfied: numpy>=1.9.0 in c:\\users\\mathew holden\\anaconda3\\lib\\site-packages (from pandas>=0.19.2->pandas_datareader) (1.15.1)\n",
      "Requirement already satisfied: chardet<3.1.0,>=3.0.2 in c:\\users\\mathew holden\\anaconda3\\lib\\site-packages (from requests>=2.3.0->pandas_datareader) (3.0.4)\n",
      "Requirement already satisfied: urllib3<1.24,>=1.21.1 in c:\\users\\mathew holden\\anaconda3\\lib\\site-packages (from requests>=2.3.0->pandas_datareader) (1.23)\n",
      "Requirement already satisfied: idna<2.8,>=2.5 in c:\\users\\mathew holden\\anaconda3\\lib\\site-packages (from requests>=2.3.0->pandas_datareader) (2.7)\n",
      "Requirement already satisfied: certifi>=2017.4.17 in c:\\users\\mathew holden\\anaconda3\\lib\\site-packages (from requests>=2.3.0->pandas_datareader) (2018.8.24)\n",
      "Requirement already satisfied: six>=1.5 in c:\\users\\mathew holden\\anaconda3\\lib\\site-packages (from python-dateutil>=2.5.0->pandas>=0.19.2->pandas_datareader) (1.11.0)\n"
     ]
    },
    {
     "name": "stderr",
     "output_type": "stream",
     "text": [
      "twisted 18.7.0 requires PyHamcrest>=1.9.0, which is not installed.\n"
     ]
    },
    {
     "name": "stdout",
     "output_type": "stream",
     "text": [
      "Installing collected packages: pandas-datareader\n",
      "Successfully installed pandas-datareader-0.7.0\n"
     ]
    },
    {
     "name": "stderr",
     "output_type": "stream",
     "text": [
      "You are using pip version 10.0.1, however version 18.1 is available.\n",
      "You should consider upgrading via the 'python -m pip install --upgrade pip' command.\n"
     ]
    }
   ],
   "source": [
    "import datetime as dt\n",
    "import matplotlib.pyplot as plt\n",
    "from matplotlib import style\n",
    "import pandas as pd\n",
    "try:\n",
    "    import pandas_datareader.data as web\n",
    "except:\n",
    "    from pip._internal import main\n",
    "    main(['install', 'pandas_datareader'])\n",
    "    import pandas_datareader.data as web"
   ]
  },
  {
   "cell_type": "code",
   "execution_count": 6,
   "metadata": {},
   "outputs": [],
   "source": [
    "style.use('ggplot')"
   ]
  },
  {
   "cell_type": "code",
   "execution_count": 7,
   "metadata": {},
   "outputs": [],
   "source": [
    "start = dt.datetime(2000, 1, 1)\n",
    "end = dt.datetime(2016, 12, 31)"
   ]
  },
  {
   "cell_type": "code",
   "execution_count": 8,
   "metadata": {},
   "outputs": [],
   "source": [
    "class YahooDailyReader():\n",
    "    \n",
    "    def __init__(self, symbol=None, start=None, end=None):\n",
    "        import datetime, time\n",
    "        self.symbol = symbol\n",
    "        \n",
    "        # initialize start/end dates if not provided\n",
    "        if end is None:\n",
    "            end = datetime.datetime.today()\n",
    "        if start is None:\n",
    "            start = datetime.datetime(2010,1,1)\n",
    "        \n",
    "        self.start = start\n",
    "        self.end = end\n",
    "        \n",
    "        # convert dates to unix time strings\n",
    "        unix_start = int(time.mktime(self.start.timetuple()))\n",
    "        day_end = self.end.replace(hour=23, minute=59, second=59)\n",
    "        unix_end = int(time.mktime(day_end.timetuple()))\n",
    "        \n",
    "        url = 'https://finance.yahoo.com/quote/{}/history?'\n",
    "        url += 'period1={}&period2={}'\n",
    "        url += '&filter=history'\n",
    "        url += '&interval=1d'\n",
    "        url += '&frequency=1d'\n",
    "        self.url = url.format(self.symbol, unix_start, unix_end)\n",
    "        \n",
    "    def read(self):\n",
    "        import requests, re, json\n",
    "       \n",
    "        r = requests.get(self.url)\n",
    "        \n",
    "        ptrn = r'root\\.App\\.main = (.*?);\\n}\\(this\\)\\);'\n",
    "        txt = re.search(ptrn, r.text, re.DOTALL).group(1)\n",
    "        jsn = json.loads(txt)\n",
    "        df = pd.DataFrame(\n",
    "                jsn['context']['dispatcher']['stores']\n",
    "                ['HistoricalPriceStore']['prices']\n",
    "                )\n",
    "        df.insert(0, 'symbol', self.symbol)\n",
    "        df['date'] = pd.to_datetime(df['date'], unit='s').dt.date\n",
    "        \n",
    "        # drop rows that aren't prices\n",
    "        df = df.dropna(subset=['close'])\n",
    "        \n",
    "        df = df[['symbol', 'date', 'high', 'low', 'open', 'close', \n",
    "                 'volume', 'adjclose']]\n",
    "        df = df.set_index('symbol')\n",
    "        return df"
   ]
  },
  {
   "cell_type": "code",
   "execution_count": 9,
   "metadata": {},
   "outputs": [],
   "source": [
    "ydr = YahooDailyReader('TSLA')\n",
    "df = ydr.read()"
   ]
  },
  {
   "cell_type": "code",
   "execution_count": 10,
   "metadata": {},
   "outputs": [
    {
     "name": "stdout",
     "output_type": "stream",
     "text": [
      "              date        high         low        open       close   volume  \\\n",
      "symbol                                                                        \n",
      "TSLA    2018-10-22  261.859985  252.589996  260.679993  260.950012  5502893   \n",
      "TSLA    2018-10-19  269.660004  253.500000  267.390015  260.000000  9369800   \n",
      "TSLA    2018-10-18  271.000000  263.000000  269.290009  263.910004  5421200   \n",
      "TSLA    2018-10-17  282.700012  265.799988  282.399994  271.779999  8655500   \n",
      "TSLA    2018-10-16  277.380005  262.239990  265.700012  276.589996  9526400   \n",
      "TSLA    2018-10-15  263.279999  254.539993  259.059998  259.589996  6200000   \n",
      "\n",
      "          adjclose  \n",
      "symbol              \n",
      "TSLA    260.950012  \n",
      "TSLA    260.000000  \n",
      "TSLA    263.910004  \n",
      "TSLA    271.779999  \n",
      "TSLA    276.589996  \n",
      "TSLA    259.589996  \n"
     ]
    }
   ],
   "source": [
    "print(df.head(6))"
   ]
  },
  {
   "cell_type": "code",
   "execution_count": 11,
   "metadata": {},
   "outputs": [
    {
     "name": "stdout",
     "output_type": "stream",
     "text": [
      "symbol\n",
      "TSLA    260.679993\n",
      "TSLA    267.390015\n",
      "TSLA    269.290009\n",
      "TSLA    282.399994\n",
      "TSLA    265.700012\n",
      "Name: open, dtype: float64\n"
     ]
    }
   ],
   "source": [
    "print(df['open'][0:5])"
   ]
  },
  {
   "cell_type": "code",
   "execution_count": 12,
   "metadata": {},
   "outputs": [],
   "source": [
    "df.to_csv('tesla.csv')"
   ]
  },
  {
   "cell_type": "code",
   "execution_count": 13,
   "metadata": {},
   "outputs": [],
   "source": [
    "df = pd.read_csv('tesla.csv')"
   ]
  },
  {
   "cell_type": "code",
   "execution_count": 14,
   "metadata": {},
   "outputs": [
    {
     "name": "stdout",
     "output_type": "stream",
     "text": [
      "  symbol        date        high         low        open       close   volume  \\\n",
      "0   TSLA  2018-10-22  261.859985  252.589996  260.679993  260.950012  5502893   \n",
      "1   TSLA  2018-10-19  269.660004  253.500000  267.390015  260.000000  9369800   \n",
      "2   TSLA  2018-10-18  271.000000  263.000000  269.290009  263.910004  5421200   \n",
      "3   TSLA  2018-10-17  282.700012  265.799988  282.399994  271.779999  8655500   \n",
      "4   TSLA  2018-10-16  277.380005  262.239990  265.700012  276.589996  9526400   \n",
      "\n",
      "     adjclose  \n",
      "0  260.950012  \n",
      "1  260.000000  \n",
      "2  263.910004  \n",
      "3  271.779999  \n",
      "4  276.589996  \n"
     ]
    }
   ],
   "source": [
    "print(df.head())"
   ]
  },
  {
   "cell_type": "code",
   "execution_count": 15,
   "metadata": {},
   "outputs": [],
   "source": [
    "df = pd.read_csv('tesla.csv', parse_dates = True, index_col = 0)"
   ]
  },
  {
   "cell_type": "code",
   "execution_count": 16,
   "metadata": {},
   "outputs": [
    {
     "data": {
      "image/png": "[encoded data removed]",
      "text/plain": [
       "<Figure size 432x288 with 1 Axes>"
      ]
     },
     "metadata": {},
     "output_type": "display_data"
    }
   ],
   "source": [
    "df.plot()\n",
    "plt.show()"
   ]
  },
  {
   "cell_type": "code",
   "execution_count": 17,
   "metadata": {},
   "outputs": [
    {
     "data": {
      "image/png": "[encoded data removed]",
      "text/plain": [
       "<Figure size 432x288 with 1 Axes>"
      ]
     },
     "metadata": {},
     "output_type": "display_data"
    }
   ],
   "source": [
    "df['adjclose'].plot()\n",
    "plt.show()"
   ]
  },
  {
   "cell_type": "code",
   "execution_count": 18,
   "metadata": {},
   "outputs": [
    {
     "name": "stdout",
     "output_type": "stream",
     "text": [
      "symbol\n",
      "TSLA    260.950012\n",
      "TSLA    260.000000\n",
      "TSLA    263.910004\n",
      "TSLA    271.779999\n",
      "TSLA    276.589996\n",
      "TSLA    259.589996\n",
      "TSLA    258.779999\n",
      "TSLA    252.229996\n",
      "TSLA    256.880005\n",
      "TSLA    262.799988\n",
      "TSLA    250.559998\n",
      "TSLA    261.950012\n",
      "TSLA    281.829987\n",
      "TSLA    294.799988\n",
      "TSLA    301.019989\n",
      "TSLA    310.700012\n",
      "TSLA    264.769989\n",
      "TSLA    307.519989\n",
      "TSLA    309.579987\n",
      "TSLA    300.989990\n",
      "TSLA    299.679993\n",
      "TSLA    299.100006\n",
      "TSLA    298.329987\n",
      "TSLA    299.019989\n",
      "TSLA    284.959991\n",
      "TSLA    294.839996\n",
      "TSLA    295.200012\n",
      "TSLA    289.459991\n",
      "TSLA    290.540009\n",
      "TSLA    279.440002\n",
      "           ...    \n",
      "TSLA     19.030001\n",
      "TSLA     19.600000\n",
      "TSLA     19.590000\n",
      "TSLA     20.450001\n",
      "TSLA     21.260000\n",
      "TSLA     21.950001\n",
      "TSLA     20.920000\n",
      "TSLA     19.940001\n",
      "TSLA     20.350000\n",
      "TSLA     20.719999\n",
      "TSLA     20.549999\n",
      "TSLA     20.950001\n",
      "TSLA     21.290001\n",
      "TSLA     21.000000\n",
      "TSLA     20.219999\n",
      "TSLA     20.299999\n",
      "TSLA     21.910000\n",
      "TSLA     20.639999\n",
      "TSLA     19.889999\n",
      "TSLA     19.840000\n",
      "TSLA     18.139999\n",
      "TSLA     17.049999\n",
      "TSLA     17.400000\n",
      "TSLA     17.459999\n",
      "TSLA     15.800000\n",
      "TSLA     16.110001\n",
      "TSLA     19.200001\n",
      "TSLA     21.959999\n",
      "TSLA     23.830000\n",
      "TSLA     23.889999\n",
      "Name: adjclose, Length: 2095, dtype: float64\n"
     ]
    }
   ],
   "source": [
    "print(df['adjclose'])"
   ]
  },
  {
   "cell_type": "code",
   "execution_count": 19,
   "metadata": {},
   "outputs": [
    {
     "name": "stdout",
     "output_type": "stream",
     "text": [
      "              open        high\n",
      "symbol                        \n",
      "TSLA    260.679993  261.859985\n",
      "TSLA    267.390015  269.660004\n",
      "TSLA    269.290009  271.000000\n",
      "TSLA    282.399994  282.700012\n",
      "TSLA    265.700012  277.380005\n"
     ]
    }
   ],
   "source": [
    "print(df[['open', 'high']].head())"
   ]
  },
  {
   "cell_type": "code",
   "execution_count": 1,
   "metadata": {},
   "outputs": [
    {
     "name": "stdout",
     "output_type": "stream",
     "text": [
      "What do you make of the graphs above?  In other words, what do these graphs tell you about Tesla company?\n",
      "Answer:\n",
      "The prices of the TSLA company would rise and fall constantly but when they close they were equal.\n"
     ]
    }
   ],
   "source": [
    "print(\"What do you make of the graphs above?  In other words, what do these graphs tell you about Tesla company?\")\n",
    "print(\"Answer:\")\n",
    "print(\"The prices of the TSLA company would rise and fall constantly but when they close they were equal.\")"
   ]
  },
  {
   "cell_type": "code",
   "execution_count": 2,
   "metadata": {},
   "outputs": [
    {
     "name": "stdout",
     "output_type": "stream",
     "text": [
      "What ideas do you have on how to tweak this program in order to gain insight into the current market for personal and professional use\n",
      "Answer:\n",
      "Have the program make an average of the day and show the record highest and lowest for the week\n"
     ]
    }
   ],
   "source": [
    "print(\"What ideas do you have on how to tweak this program in order to gain insight into the current market for personal and professional use\")\n",
    "print(\"Answer:\")\n",
    "print(\"Have the program make an average of the day and show the record highest and lowest for the week\")"
   ]
  },
  {
   "cell_type": "code",
   "execution_count": 3,
   "metadata": {},
   "outputs": [
    {
     "name": "stdout",
     "output_type": "stream",
     "text": [
      "Mathew Holden\n"
     ]
    }
   ],
   "source": [
    "print(\"Mathew Holden\")"
   ]
  },
  {
   "cell_type": "code",
   "execution_count": null,
   "metadata": {},
   "outputs": [],
   "source": []
  }
 ],
 "metadata": {
  "kernelspec": {
   "display_name": "Python 3",
   "language": "python",
   "name": "python3"
  },
  "language_info": {
   "codemirror_mode": {
    "name": "ipython",
    "version": 3
   },
   "file_extension": ".py",
   "mimetype": "text/x-python",
   "name": "python",
   "nbconvert_exporter": "python",
   "pygments_lexer": "ipython3",
   "version": "3.7.0"
  }
 },
 "nbformat": 4,
 "nbformat_minor": 2
}
