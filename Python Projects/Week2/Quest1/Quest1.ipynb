{
 "cells": [
  {
   "cell_type": "code",
   "execution_count": 1,
   "metadata": {},
   "outputs": [],
   "source": [
    "import array\n",
    "a=[1,1,2,2,3,3]\n",
    "b=[2,3,1,3,1,2]\n",
    "c=[3,2,3,1,2,1]\n",
    "def bigToSmall(index):\n",
    "    results = []\n",
    "    if a[index] > b[index] > c[index]:\n",
    "        results = [a[index], b[index], c[index]]\n",
    "    if a[index] > c[index] > b[index]:\n",
    "        results = [a[index], c[index], b[index]]\n",
    "    if b[index] > c[index]>a[index]:\n",
    "        results = [b[index], c[index], a[index]]\n",
    "    if b[index] > a[index]>c[index]:\n",
    "        results = [b[index], a[index], c[index]]\n",
    "    if c[index] > a[index]>b[index]:\n",
    "        results = [c[index], a[index], b[index]]\n",
    "    if c[index] > b[index]>a[index]:\n",
    "        results = [c[index], b[index], a[index]]\n",
    "    return results\n",
    "   "
   ]
  },
  {
   "cell_type": "code",
   "execution_count": 2,
   "metadata": {},
   "outputs": [
    {
     "name": "stdout",
     "output_type": "stream",
     "text": [
      "A B C OUTPUT\n",
      "1 2 3 [3, 2, 1]\n",
      "1 3 2 [3, 2, 1]\n",
      "2 1 3 [3, 2, 1]\n",
      "2 3 1 [3, 2, 1]\n",
      "3 1 2 [3, 2, 1]\n",
      "3 2 1 [3, 2, 1]\n"
     ]
    }
   ],
   "source": [
    "index = 0\n",
    "a=[1,1,2,2,3,3]\n",
    "b=[2,3,1,3,1,2]\n",
    "c=[3,2,3,1,2,1]\n",
    "print(\"A\", \"B\", \"C\", \"OUTPUT\")\n",
    "while index < len(a):\n",
    "    print(a[index],b[index],c[index],bigToSmall(index))\n",
    "    index+=1\n",
    "    "
   ]
  },
  {
   "cell_type": "code",
   "execution_count": 3,
   "metadata": {},
   "outputs": [
    {
     "name": "stdout",
     "output_type": "stream",
     "text": [
      "Mathew Holden\n"
     ]
    }
   ],
   "source": [
    "print(\"Mathew Holden\")"
   ]
  },
  {
   "cell_type": "code",
   "execution_count": null,
   "metadata": {},
   "outputs": [],
   "source": []
  }
 ],
 "metadata": {
  "kernelspec": {
   "display_name": "Python 3",
   "language": "python",
   "name": "python3"
  },
  "language_info": {
   "codemirror_mode": {
    "name": "ipython",
    "version": 3
   },
   "file_extension": ".py",
   "mimetype": "text/x-python",
   "name": "python",
   "nbconvert_exporter": "python",
   "pygments_lexer": "ipython3",
   "version": "3.7.0"
  }
 },
 "nbformat": 4,
 "nbformat_minor": 2
}
