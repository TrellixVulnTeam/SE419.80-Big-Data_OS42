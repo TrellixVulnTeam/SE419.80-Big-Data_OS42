{
 "cells": [
  {
   "cell_type": "code",
   "execution_count": null,
   "metadata": {},
   "outputs": [],
   "source": [
    "#!/usr/bin/env python3\n",
    "########################################################################\n",
    "# JeffProd Simple Python Chess Program\n",
    "########################################################################\n",
    "# AUTHOR\t: Jean-Francois GAZET\n",
    "# WEB \t\t: http://www.jeffprod.com\n",
    "# TWITTER\t: @JeffProd\n",
    "# MAIL\t\t: jeffgazet@gmail.com\n",
    "# LICENCE\t: GNU GENERAL PUBLIC LICENSE Version 2, June 1991\n",
    "########################################################################\n",
    "\n",
    "# Import object classes\n",
    "from board import *\n",
    "from engine import *\n",
    "\n",
    "b=Board()\n",
    "e=Engine()\n",
    "\n",
    "while(True):\n",
    "\n",
    "    b.render()\n",
    "\n",
    "    c=input('>>> ')\n",
    "\n",
    "    if(c=='quit' or c=='exit'):\n",
    "        exit(0)\n",
    "\n",
    "    elif(c=='undomove'):\n",
    "        e.undomove(b)\n",
    "\n",
    "    elif('setboard' in c):\n",
    "        e.setboard(b,c) \n",
    "\n",
    "    elif(c=='getboard'):\n",
    "        e.getboard(b)\n",
    "\n",
    "    elif(c=='go'):\n",
    "        e.search(b)\n",
    "\n",
    "    elif(c=='new'):\n",
    "        e.newgame(b)\n",
    "\n",
    "    elif(c=='bench'):\n",
    "        e.bench(b)        \n",
    "\n",
    "    elif('sd ' in c):\n",
    "        e.setDepth(c)\n",
    "\n",
    "    elif('perft ' in c):\n",
    "        e.perft(c,b)        \n",
    "\n",
    "    elif(c=='legalmoves'):\n",
    "        e.legalmoves(b)\n",
    "        \n",
    "    else:\n",
    "        # coup à jouer ? ex : e2e4\n",
    "        e.usermove(b,c)\n"
   ]
  },
  {
   "cell_type": "code",
   "execution_count": null,
   "metadata": {},
   "outputs": [],
   "source": []
  }
 ],
 "metadata": {
  "kernelspec": {
   "display_name": "Python 3",
   "language": "python",
   "name": "python3"
  },
  "language_info": {
   "codemirror_mode": {
    "name": "ipython",
    "version": 3
   },
   "file_extension": ".py",
   "mimetype": "text/x-python",
   "name": "python",
   "nbconvert_exporter": "python",
   "pygments_lexer": "ipython3",
   "version": "3.7.0"
  }
 },
 "nbformat": 4,
 "nbformat_minor": 2
}
