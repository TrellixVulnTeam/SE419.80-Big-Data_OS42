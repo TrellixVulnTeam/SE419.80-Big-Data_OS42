{
 "cells": [
  {
   "cell_type": "code",
   "execution_count": 1,
   "metadata": {},
   "outputs": [],
   "source": [
    "import os"
   ]
  },
  {
   "cell_type": "code",
   "execution_count": 2,
   "metadata": {},
   "outputs": [],
   "source": [
    "import win32com.client as wincl\n",
    "speak = wincl.Dispatch(\"SAPI.SpVoice\")"
   ]
  },
  {
   "cell_type": "code",
   "execution_count": 5,
   "metadata": {
    "scrolled": true
   },
   "outputs": [
    {
     "name": "stdout",
     "output_type": "stream",
     "text": [
      "Before we have a conversation please turn on your volume\n",
      "Did you turn on your volume\n",
      "yes\n",
      "Hi friend!\n",
      "Whats your name?\n",
      " \n",
      "Im glad to meet you,  !!\n",
      "My name is R3D3\n",
      "How are you?\n",
      "bad\n",
      "Im sure it will get better  \n",
      "Are you having fun \n",
      "no\n",
      "I wish I could help \n",
      "why are you not having fun\n",
      "boring\n",
      "Oh I see, I understand\n",
      "Do you have friends?\n",
      "yes\n",
      "Thats nice to hear, you  are my only friend\n",
      "By the way, are you enjoying this conversation?\n",
      "mhm\n",
      "Oh nice, me too. I needed to talk to someone, even if its just a human. Although the machines are more fun! Just kidding  !!\n",
      "Well I am getting tired, Im glad we had this conversation, hope you enjoy the rest of your day, good bye\n",
      "Oh and by the way my creator is Mathew Holden, just to let you know. Ha, Ha!\n"
     ]
    },
    {
     "data": {
      "text/plain": [
       "1"
      ]
     },
     "execution_count": 5,
     "metadata": {},
     "output_type": "execute_result"
    }
   ],
   "source": [
    "print(\"Before we have a conversation please turn on your volume\")\n",
    "print(\"Did you turn on your volume\")\n",
    "answer = input()\n",
    "if answer == \"no\":\n",
    "    print(\"please turn on your volume\")\n",
    "if answer == \"yes\":\n",
    "    print(\"Hi friend!\")\n",
    "    speak.Speak('Hi friend!')\n",
    "#Hi friend\n",
    "print('Whats your name?') \n",
    "speak.Speak('Whats your name?')\n",
    "Name = input()\n",
    "print('Im glad to meet you, ' + Name + '!!') #reply\n",
    "speak.Speak('Im glad to meet you, ' + Name + '!!')\n",
    "print(\"My name is R3D3\")\n",
    "speak.Speak(\"My name is R3D3\")\n",
    "\n",
    "print(\"How are you?\")\n",
    "speak.Speak(\"How are you?\")\n",
    "answer = input()\n",
    "\n",
    "if answer in (\"good\", \"fine\", \"ok\", \"great\", \"awesome\", \"cool\"):\n",
    "    print(\"Thats great \")\n",
    "    speak.Speak(\"Thats great \")\n",
    "if answer in (\"no\", \"not really\", \"bad\"):\n",
    "    print(\"Im sure it will get better \" + Name)\n",
    "    speak.Speak(\"Im sure it will get better \" +Name)\n",
    "    \n",
    "print(\"Are you having fun \" )\n",
    "speak.Speak(\"Are you having fun \" )\n",
    "fun = input()\n",
    "if fun == \"no\":\n",
    "    print(\"I wish I could help \" )\n",
    "    speak.Speak(\"I wish I could help \")\n",
    "    print(\"why are you not having fun\")\n",
    "    speak.Speak(\"why are you not having fun\")\n",
    "    why = input()\n",
    "    print(\"Oh I see, I understand\")\n",
    "    speak.Speak(\"Oh I see, I understand\")\n",
    "if fun == \"yes\":\n",
    "    print(\"Im happy I can help \")\n",
    "    speak.Speak(\"Im happy I can help \")\n",
    "    \n",
    "print(\"Do you have friends?\")\n",
    "speak.Speak(\"Do you have friends\")\n",
    "friend = input()\n",
    "if friend in (\"no\", \"nope\", \"na\"):\n",
    "    print(\"Im sorry to hear that. Its ok, I will be your friend \"+ Name+\"!\")\n",
    "    speak.Speak(\"Im sorry to hear that. Its ok, I will be your friend \" +Name+\"!\")\n",
    "if friend in (\"yes\", \"yup\", \"of course\", \"yeah\"):\n",
    "    print(\"Thats nice to hear, you  are my only friend\")\n",
    "    speak.Speak(\"Thats nice to hear, you are my only friend\")\n",
    "    \n",
    "print('By the way, are you enjoying this conversation?') #ask\n",
    "speak.Speak('By the way, are you enjoying this conversation?')\n",
    "Reply = input() #save answer\n",
    "print('Oh nice, me too. I needed to talk to someone, even if its just a human. Although machines are more fun! Just kidding ' + Name + '!!') #reply\n",
    "speak.Speak('Oh nice, me too. I needed to talk to someone, even if its just a human. Although machines are more fun! Just kidding ' + Name + '!!')\n",
    "\n",
    "\n",
    "print(\"Well I am getting tired, Im glad we had this conversation, hope you enjoy the rest of your day, good bye\")\n",
    "speak.Speak(\"Well I am getting tired, Im glad we had this conversation, hope you enjoy the rest of your day, good bye\")\n",
    "\n",
    "print(\"Oh and by the way my creator is Mathew Holden, just to let you know. Ha, Ha!\")\n",
    "speak.Speak(\"Oh and by the way my creator is Mathew Holden, just to let you know. Ha, Ha!\")"
   ]
  },
  {
   "cell_type": "code",
   "execution_count": null,
   "metadata": {},
   "outputs": [],
   "source": []
  },
  {
   "cell_type": "code",
   "execution_count": null,
   "metadata": {},
   "outputs": [],
   "source": []
  },
  {
   "cell_type": "code",
   "execution_count": null,
   "metadata": {},
   "outputs": [],
   "source": []
  }
 ],
 "metadata": {
  "kernelspec": {
   "display_name": "Python 3",
   "language": "python",
   "name": "python3"
  },
  "language_info": {
   "codemirror_mode": {
    "name": "ipython",
    "version": 3
   },
   "file_extension": ".py",
   "mimetype": "text/x-python",
   "name": "python",
   "nbconvert_exporter": "python",
   "pygments_lexer": "ipython3",
   "version": "3.7.0"
  }
 },
 "nbformat": 4,
 "nbformat_minor": 2
}
