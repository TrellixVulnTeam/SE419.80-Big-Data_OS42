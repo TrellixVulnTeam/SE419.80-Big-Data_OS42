{
 "cells": [
  {
   "cell_type": "code",
   "execution_count": 2,
   "metadata": {},
   "outputs": [
    {
     "name": "stdout",
     "output_type": "stream",
     "text": [
      "Hi mate!\n",
      "Whats your name?\n",
      "Mat\n",
      "Im glad to meet you, Mat!!\n",
      "The number of letters of your name is:\n",
      "3\n",
      "How old are you?\n",
      "29\n",
      "Okay, then you will be 30 next year.\n",
      "Whats the name of your brother?\n",
      "Danny\n",
      "Awesome!, my brothers name is also Danny!!\n",
      "What is your aunts name?\n",
      "Donna\n",
      "Ah ha! I do not have any aunt whose name is Donna\n",
      "And do you have an aunt named Jeniffer?\n",
      "nope\n",
      "Okay, I have 2 aunts whose name is Jeniffer\n",
      "By the way, are you enjoying this conversation?\n",
      "no\n",
      "Oh nice, me too. I needed to talk to someone, even if its just a human. Although the machines give me more game! Just kidding Mat!!\n",
      "Can you lend me your new car?\n",
      "not yet\n",
      "Oh, well, tomorrow Ill pick it up early. Perfect, well talk tomorrow when I come back. Bye Mat\n"
     ]
    },
    {
     "data": {
      "text/plain": [
       "1"
      ]
     },
     "execution_count": 2,
     "metadata": {},
     "output_type": "execute_result"
    }
   ],
   "source": [
    "#This is an Input/Output AI Chatbot based on Manual Rules\n",
    "\n",
    "import os\n",
    "os.system('color 3f') # sets the background to blue\n",
    "\n",
    "#make Python speak\n",
    "import win32com.client as wincl\n",
    "speak = wincl.Dispatch(\"SAPI.SpVoice\")\n",
    "\n",
    "#start the conversation\n",
    "print('Hi mate!') #greeting\n",
    "speak.Speak('Hi mate!')\n",
    "\n",
    "#keep going the conversation\n",
    "print('Whats your name?') #ask\n",
    "speak.Speak('Whats your name?')\n",
    "Name = input() #save answer\n",
    "print('Im glad to meet you, ' + Name + '!!') #reply\n",
    "speak.Speak('Im glad to meet you, ' + Name + '!!')\n",
    "print('The number of letters of your name is:')\n",
    "speak.Speak('The number of letters of your name is:')\n",
    "print(len(Name))\n",
    "speak.Speak(len(Name))\n",
    "\n",
    "#keep going the conversation\n",
    "print('How old are you?') #ask\n",
    "speak.Speak('How old are you?')\n",
    "Reply = input() #save answer\n",
    "print('Okay, then you will be ' + str(int(Reply) + 1) + ' next year.') #reply\n",
    "speak.Speak('Okay, then you will be ' + str(int(Reply) + 1) + ' next year.')\n",
    "\n",
    "#keep going the conversation \n",
    "print('Whats the name of your brother?') #ask\n",
    "speak.Speak('Whats the name of your brother?')\n",
    "Reply = input() #save answer\n",
    "print('Awesome!, my brothers name is also ' + Reply + '!!') #reply\n",
    "speak.Speak('Awesome!, my brothers name is also ' + Reply + '!!')\n",
    "\n",
    "#keep going the conversation\n",
    "print('What is your aunts name?') #ask\n",
    "speak.Speak('What is your aunts name?')\n",
    "Reply = input() #save answer\n",
    "print('Ah ha! I do not have any aunt whose name is ' + Reply) #reply\n",
    "speak.Speak('Ah ha! I do not have any aunt whose name is ' + Reply)\n",
    "\n",
    "#keep going the conversation\n",
    "print('And do you have an aunt named Jeniffer?') #ask\n",
    "speak.Speak('And do you have an aunt named Jeniffer?')\n",
    "Reply = input() #save answer\n",
    "print('Okay, I have 2 aunts whose name is Jeniffer') #reply\n",
    "speak.Speak('Okay, I have 2 aunts whose name is Jeniffer')\n",
    "\n",
    "#keep going the conversation\n",
    "print('By the way, are you enjoying this conversation?') #ask\n",
    "speak.Speak('By the way, are you enjoying this conversation?')\n",
    "Reply = input() #save answer\n",
    "print('Oh nice, me too. I needed to talk to someone, even if its just a human. Although the machines give me more game! Just kidding ' + Name + '!!') #reply\n",
    "speak.Speak('Oh nice, me too. I needed to talk to someone, even if its just a human. Although the machines give me more game! Just kidding ' + Name + '!!')\n",
    "\n",
    "\n",
    "#keep going the conversation\n",
    "print('Can you lend me your new car?') #ask\n",
    "speak.Speak('Can you lend me your new car?')\n",
    "Reply = input() #save answer\n",
    "print('Oh, well, tomorrow Ill pick it up early. Perfect, well talk tomorrow when I come back. Bye ' + Name) #reply\n",
    "speak.Speak('Oh, well, tomorrow Ill pick it up early. Perfect, well talk tomorrow when I come back. Bye' + Name)"
   ]
  },
  {
   "cell_type": "markdown",
   "metadata": {},
   "source": []
  },
  {
   "cell_type": "code",
   "execution_count": null,
   "metadata": {},
   "outputs": [],
   "source": []
  },
  {
   "cell_type": "code",
   "execution_count": null,
   "metadata": {},
   "outputs": [],
   "source": []
  }
 ],
 "metadata": {
  "kernelspec": {
   "display_name": "Python 3",
   "language": "python",
   "name": "python3"
  },
  "language_info": {
   "codemirror_mode": {
    "name": "ipython",
    "version": 3
   },
   "file_extension": ".py",
   "mimetype": "text/x-python",
   "name": "python",
   "nbconvert_exporter": "python",
   "pygments_lexer": "ipython3",
   "version": "3.7.0"
  }
 },
 "nbformat": 4,
 "nbformat_minor": 2
}
