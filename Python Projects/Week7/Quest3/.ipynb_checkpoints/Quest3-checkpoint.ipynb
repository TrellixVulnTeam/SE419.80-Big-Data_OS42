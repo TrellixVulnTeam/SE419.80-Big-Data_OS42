{
 "cells": [
  {
   "cell_type": "code",
   "execution_count": 1,
   "metadata": {},
   "outputs": [],
   "source": [
    "import os"
   ]
  },
  {
   "cell_type": "code",
   "execution_count": 2,
   "metadata": {},
   "outputs": [],
   "source": [
    "import win32com.client as wincl\n",
    "speak = wincl.Dispatch(\"SAPI.SpVoice\")"
   ]
  },
  {
   "cell_type": "code",
   "execution_count": 5,
   "metadata": {},
   "outputs": [
    {
     "name": "stdout",
     "output_type": "stream",
     "text": [
      "Before we have a conversation please turn on your volume\n",
      "Did you turn on your volume\n",
      "yes\n",
      "Hi friend!\n",
      "Whats your name?\n",
      "Mat\n",
      "Im glad to meet you, Mat!!\n",
      "My name is R3D3\n",
      "How are you?\n",
      "dont know\n",
      "Im sure it will get better\n"
     ]
    }
   ],
   "source": [
    "print(\"Before we have a conversation please turn on your volume\")\n",
    "print(\"Did you turn on your volume\")\n",
    "answer = input()\n",
    "if answer == \"no\":\n",
    "    print(\"please turn on your volume\")\n",
    "if answer == \"yes\":\n",
    "    print(\"Hi friend!\")\n",
    "    speak.Speak('Hi friend!')\n",
    "#Hi friend\n",
    "print('Whats your name?') \n",
    "speak.Speak('Whats your name?')\n",
    "Name = input()\n",
    "print('Im glad to meet you, ' + Name + '!!') #reply\n",
    "speak.Speak('Im glad to meet you, ' + Name + '!!')\n",
    "print(\"My name is R3D3\")\n",
    "speak.Speak(\"My name is R3D3\")\n",
    "\n",
    "print(\"How are you?\")\n",
    "speak.Speak(\"How are you?\")\n",
    "answer = input()\n",
    "\n",
    "if answer in (\"good\", \"fine\", \"ok\", \"great\", \"awesome\", \"cool\"):\n",
    "    print(\"Thats great \"+ Name)\n",
    "    speak.Speak(\"Thats great \"+Name)\n",
    "else:\n",
    "    print(\"Im sure it will get better\" + Name)\n",
    "    speak.Speak(\"Im sure it will get better\" +Name)\n",
    "    \n",
    "\n"
   ]
  },
  {
   "cell_type": "code",
   "execution_count": null,
   "metadata": {},
   "outputs": [],
   "source": []
  },
  {
   "cell_type": "code",
   "execution_count": null,
   "metadata": {},
   "outputs": [],
   "source": []
  },
  {
   "cell_type": "code",
   "execution_count": null,
   "metadata": {},
   "outputs": [],
   "source": []
  }
 ],
 "metadata": {
  "kernelspec": {
   "display_name": "Python 3",
   "language": "python",
   "name": "python3"
  },
  "language_info": {
   "codemirror_mode": {
    "name": "ipython",
    "version": 3
   },
   "file_extension": ".py",
   "mimetype": "text/x-python",
   "name": "python",
   "nbconvert_exporter": "python",
   "pygments_lexer": "ipython3",
   "version": "3.7.0"
  }
 },
 "nbformat": 4,
 "nbformat_minor": 2
}
